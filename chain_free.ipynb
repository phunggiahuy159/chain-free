{
  "nbformat": 4,
  "nbformat_minor": 0,
  "metadata": {
    "colab": {
      "provenance": [],
      "gpuType": "T4",
      "mount_file_id": "1TdG4sEA-fYmjtP75pVbCBbNMXJvbNcb8",
      "authorship_tag": "ABX9TyNJ5rSMIfubMNS2bpVmNqzJ",
      "include_colab_link": true
    },
    "kernelspec": {
      "name": "python3",
      "display_name": "Python 3"
    },
    "language_info": {
      "name": "python"
    },
    "accelerator": "GPU"
  },
  "cells": [
    {
      "cell_type": "markdown",
      "metadata": {
        "id": "view-in-github",
        "colab_type": "text"
      },
      "source": [
        "<a href=\"https://colab.research.google.com/github/phunggiahuy159/chain-free/blob/main/chain_free.ipynb\" target=\"_parent\"><img src=\"https://colab.research.google.com/assets/colab-badge.svg\" alt=\"Open In Colab\"/></a>"
      ]
    },
    {
      "cell_type": "code",
      "execution_count": 1,
      "metadata": {
        "colab": {
          "base_uri": "https://localhost:8080/"
        },
        "id": "Fxa3woTyk8dM",
        "outputId": "602038af-2940-4701-a79f-dcfbdcd49830"
      },
      "outputs": [
        {
          "output_type": "stream",
          "name": "stdout",
          "text": [
            "Drive already mounted at /content/drive; to attempt to forcibly remount, call drive.mount(\"/content/drive\", force_remount=True).\n",
            "Requirement already satisfied: topmost in /usr/local/lib/python3.11/dist-packages (1.0.1)\n",
            "Requirement already satisfied: numpy<1.27.0 in /usr/local/lib/python3.11/dist-packages (from topmost) (1.24.4)\n",
            "Requirement already satisfied: scipy<=1.10.1 in /usr/local/lib/python3.11/dist-packages (from topmost) (1.10.1)\n",
            "Requirement already satisfied: sentence-transformers<3.0.0,>=2.6.0 in /usr/local/lib/python3.11/dist-packages (from topmost) (2.7.0)\n",
            "Requirement already satisfied: torchvision>=0.14.1 in /usr/local/lib/python3.11/dist-packages (from topmost) (0.20.1+cu124)\n",
            "Requirement already satisfied: gensim>=4.2.0 in /usr/local/lib/python3.11/dist-packages (from topmost) (4.3.0)\n",
            "Requirement already satisfied: scikit-learn>=0.24.2 in /usr/local/lib/python3.11/dist-packages (from topmost) (1.6.1)\n",
            "Requirement already satisfied: tqdm>=4.66.0 in /usr/local/lib/python3.11/dist-packages (from topmost) (4.67.1)\n",
            "Requirement already satisfied: fastopic>=1.0.0 in /usr/local/lib/python3.11/dist-packages (from topmost) (1.0.0)\n",
            "Requirement already satisfied: bertopic>=0.15.0 in /usr/local/lib/python3.11/dist-packages (from topmost) (0.16.4)\n",
            "Requirement already satisfied: hdbscan>=0.8.29 in /usr/local/lib/python3.11/dist-packages (from bertopic>=0.15.0->topmost) (0.8.40)\n",
            "Requirement already satisfied: pandas>=1.1.5 in /usr/local/lib/python3.11/dist-packages (from bertopic>=0.15.0->topmost) (1.5.3)\n",
            "Requirement already satisfied: plotly>=4.7.0 in /usr/local/lib/python3.11/dist-packages (from bertopic>=0.15.0->topmost) (5.24.1)\n",
            "Requirement already satisfied: umap-learn>=0.5.0 in /usr/local/lib/python3.11/dist-packages (from bertopic>=0.15.0->topmost) (0.5.7)\n",
            "Requirement already satisfied: smart-open>=1.8.1 in /usr/local/lib/python3.11/dist-packages (from gensim>=4.2.0->topmost) (7.1.0)\n",
            "Requirement already satisfied: FuzzyTM>=0.4.0 in /usr/local/lib/python3.11/dist-packages (from gensim>=4.2.0->topmost) (2.0.9)\n",
            "Requirement already satisfied: joblib>=1.2.0 in /usr/local/lib/python3.11/dist-packages (from scikit-learn>=0.24.2->topmost) (1.4.2)\n",
            "Requirement already satisfied: threadpoolctl>=3.1.0 in /usr/local/lib/python3.11/dist-packages (from scikit-learn>=0.24.2->topmost) (3.5.0)\n",
            "Requirement already satisfied: transformers<5.0.0,>=4.34.0 in /usr/local/lib/python3.11/dist-packages (from sentence-transformers<3.0.0,>=2.6.0->topmost) (4.48.3)\n",
            "Requirement already satisfied: torch>=1.11.0 in /usr/local/lib/python3.11/dist-packages (from sentence-transformers<3.0.0,>=2.6.0->topmost) (2.5.1+cu124)\n",
            "Requirement already satisfied: huggingface-hub>=0.15.1 in /usr/local/lib/python3.11/dist-packages (from sentence-transformers<3.0.0,>=2.6.0->topmost) (0.28.1)\n",
            "Requirement already satisfied: Pillow in /usr/local/lib/python3.11/dist-packages (from sentence-transformers<3.0.0,>=2.6.0->topmost) (11.1.0)\n",
            "Requirement already satisfied: filelock in /usr/local/lib/python3.11/dist-packages (from torch>=1.11.0->sentence-transformers<3.0.0,>=2.6.0->topmost) (3.17.0)\n",
            "Requirement already satisfied: typing-extensions>=4.8.0 in /usr/local/lib/python3.11/dist-packages (from torch>=1.11.0->sentence-transformers<3.0.0,>=2.6.0->topmost) (4.12.2)\n",
            "Requirement already satisfied: networkx in /usr/local/lib/python3.11/dist-packages (from torch>=1.11.0->sentence-transformers<3.0.0,>=2.6.0->topmost) (3.4.2)\n",
            "Requirement already satisfied: jinja2 in /usr/local/lib/python3.11/dist-packages (from torch>=1.11.0->sentence-transformers<3.0.0,>=2.6.0->topmost) (3.1.5)\n",
            "Requirement already satisfied: fsspec in /usr/local/lib/python3.11/dist-packages (from torch>=1.11.0->sentence-transformers<3.0.0,>=2.6.0->topmost) (2024.10.0)\n",
            "Requirement already satisfied: nvidia-cuda-nvrtc-cu12==12.4.127 in /usr/local/lib/python3.11/dist-packages (from torch>=1.11.0->sentence-transformers<3.0.0,>=2.6.0->topmost) (12.4.127)\n",
            "Requirement already satisfied: nvidia-cuda-runtime-cu12==12.4.127 in /usr/local/lib/python3.11/dist-packages (from torch>=1.11.0->sentence-transformers<3.0.0,>=2.6.0->topmost) (12.4.127)\n",
            "Requirement already satisfied: nvidia-cuda-cupti-cu12==12.4.127 in /usr/local/lib/python3.11/dist-packages (from torch>=1.11.0->sentence-transformers<3.0.0,>=2.6.0->topmost) (12.4.127)\n",
            "Requirement already satisfied: nvidia-cudnn-cu12==9.1.0.70 in /usr/local/lib/python3.11/dist-packages (from torch>=1.11.0->sentence-transformers<3.0.0,>=2.6.0->topmost) (9.1.0.70)\n",
            "Requirement already satisfied: nvidia-cublas-cu12==12.4.5.8 in /usr/local/lib/python3.11/dist-packages (from torch>=1.11.0->sentence-transformers<3.0.0,>=2.6.0->topmost) (12.4.5.8)\n",
            "Requirement already satisfied: nvidia-cufft-cu12==11.2.1.3 in /usr/local/lib/python3.11/dist-packages (from torch>=1.11.0->sentence-transformers<3.0.0,>=2.6.0->topmost) (11.2.1.3)\n",
            "Requirement already satisfied: nvidia-curand-cu12==10.3.5.147 in /usr/local/lib/python3.11/dist-packages (from torch>=1.11.0->sentence-transformers<3.0.0,>=2.6.0->topmost) (10.3.5.147)\n",
            "Requirement already satisfied: nvidia-cusolver-cu12==11.6.1.9 in /usr/local/lib/python3.11/dist-packages (from torch>=1.11.0->sentence-transformers<3.0.0,>=2.6.0->topmost) (11.6.1.9)\n",
            "Requirement already satisfied: nvidia-cusparse-cu12==12.3.1.170 in /usr/local/lib/python3.11/dist-packages (from torch>=1.11.0->sentence-transformers<3.0.0,>=2.6.0->topmost) (12.3.1.170)\n",
            "Requirement already satisfied: nvidia-nccl-cu12==2.21.5 in /usr/local/lib/python3.11/dist-packages (from torch>=1.11.0->sentence-transformers<3.0.0,>=2.6.0->topmost) (2.21.5)\n",
            "Requirement already satisfied: nvidia-nvtx-cu12==12.4.127 in /usr/local/lib/python3.11/dist-packages (from torch>=1.11.0->sentence-transformers<3.0.0,>=2.6.0->topmost) (12.4.127)\n",
            "Requirement already satisfied: nvidia-nvjitlink-cu12==12.4.127 in /usr/local/lib/python3.11/dist-packages (from torch>=1.11.0->sentence-transformers<3.0.0,>=2.6.0->topmost) (12.4.127)\n",
            "Requirement already satisfied: triton==3.1.0 in /usr/local/lib/python3.11/dist-packages (from torch>=1.11.0->sentence-transformers<3.0.0,>=2.6.0->topmost) (3.1.0)\n",
            "Requirement already satisfied: sympy==1.13.1 in /usr/local/lib/python3.11/dist-packages (from torch>=1.11.0->sentence-transformers<3.0.0,>=2.6.0->topmost) (1.13.1)\n",
            "Requirement already satisfied: mpmath<1.4,>=1.1.0 in /usr/local/lib/python3.11/dist-packages (from sympy==1.13.1->torch>=1.11.0->sentence-transformers<3.0.0,>=2.6.0->topmost) (1.3.0)\n",
            "Requirement already satisfied: pyfume in /usr/local/lib/python3.11/dist-packages (from FuzzyTM>=0.4.0->gensim>=4.2.0->topmost) (0.3.4)\n",
            "Requirement already satisfied: packaging>=20.9 in /usr/local/lib/python3.11/dist-packages (from huggingface-hub>=0.15.1->sentence-transformers<3.0.0,>=2.6.0->topmost) (24.2)\n",
            "Requirement already satisfied: pyyaml>=5.1 in /usr/local/lib/python3.11/dist-packages (from huggingface-hub>=0.15.1->sentence-transformers<3.0.0,>=2.6.0->topmost) (6.0)\n",
            "Requirement already satisfied: requests in /usr/local/lib/python3.11/dist-packages (from huggingface-hub>=0.15.1->sentence-transformers<3.0.0,>=2.6.0->topmost) (2.32.3)\n",
            "Requirement already satisfied: python-dateutil>=2.8.1 in /usr/local/lib/python3.11/dist-packages (from pandas>=1.1.5->bertopic>=0.15.0->topmost) (2.8.2)\n",
            "Requirement already satisfied: pytz>=2020.1 in /usr/local/lib/python3.11/dist-packages (from pandas>=1.1.5->bertopic>=0.15.0->topmost) (2025.1)\n",
            "Requirement already satisfied: tenacity>=6.2.0 in /usr/local/lib/python3.11/dist-packages (from plotly>=4.7.0->bertopic>=0.15.0->topmost) (9.0.0)\n",
            "Requirement already satisfied: wrapt in /usr/local/lib/python3.11/dist-packages (from smart-open>=1.8.1->gensim>=4.2.0->topmost) (1.17.2)\n",
            "Requirement already satisfied: regex!=2019.12.17 in /usr/local/lib/python3.11/dist-packages (from transformers<5.0.0,>=4.34.0->sentence-transformers<3.0.0,>=2.6.0->topmost) (2024.11.6)\n",
            "Requirement already satisfied: tokenizers<0.22,>=0.21 in /usr/local/lib/python3.11/dist-packages (from transformers<5.0.0,>=4.34.0->sentence-transformers<3.0.0,>=2.6.0->topmost) (0.21.0)\n",
            "Requirement already satisfied: safetensors>=0.4.1 in /usr/local/lib/python3.11/dist-packages (from transformers<5.0.0,>=4.34.0->sentence-transformers<3.0.0,>=2.6.0->topmost) (0.5.3)\n",
            "Requirement already satisfied: numba>=0.51.2 in /usr/local/lib/python3.11/dist-packages (from umap-learn>=0.5.0->bertopic>=0.15.0->topmost) (0.61.0)\n",
            "Requirement already satisfied: pynndescent>=0.5 in /usr/local/lib/python3.11/dist-packages (from umap-learn>=0.5.0->bertopic>=0.15.0->topmost) (0.5.13)\n",
            "Requirement already satisfied: llvmlite<0.45,>=0.44.0dev0 in /usr/local/lib/python3.11/dist-packages (from numba>=0.51.2->umap-learn>=0.5.0->bertopic>=0.15.0->topmost) (0.44.0)\n",
            "Requirement already satisfied: six>=1.5 in /usr/local/lib/python3.11/dist-packages (from python-dateutil>=2.8.1->pandas>=1.1.5->bertopic>=0.15.0->topmost) (1.17.0)\n",
            "Requirement already satisfied: MarkupSafe>=2.0 in /usr/local/lib/python3.11/dist-packages (from jinja2->torch>=1.11.0->sentence-transformers<3.0.0,>=2.6.0->topmost) (3.0.2)\n",
            "Requirement already satisfied: simpful==2.12.0 in /usr/local/lib/python3.11/dist-packages (from pyfume->FuzzyTM>=0.4.0->gensim>=4.2.0->topmost) (2.12.0)\n",
            "Requirement already satisfied: fst-pso==1.8.1 in /usr/local/lib/python3.11/dist-packages (from pyfume->FuzzyTM>=0.4.0->gensim>=4.2.0->topmost) (1.8.1)\n",
            "Requirement already satisfied: miniful in /usr/local/lib/python3.11/dist-packages (from fst-pso==1.8.1->pyfume->FuzzyTM>=0.4.0->gensim>=4.2.0->topmost) (0.0.6)\n",
            "Requirement already satisfied: charset-normalizer<4,>=2 in /usr/local/lib/python3.11/dist-packages (from requests->huggingface-hub>=0.15.1->sentence-transformers<3.0.0,>=2.6.0->topmost) (3.4.1)\n",
            "Requirement already satisfied: idna<4,>=2.5 in /usr/local/lib/python3.11/dist-packages (from requests->huggingface-hub>=0.15.1->sentence-transformers<3.0.0,>=2.6.0->topmost) (3.10)\n",
            "Requirement already satisfied: urllib3<3,>=1.21.1 in /usr/local/lib/python3.11/dist-packages (from requests->huggingface-hub>=0.15.1->sentence-transformers<3.0.0,>=2.6.0->topmost) (2.3.0)\n",
            "Requirement already satisfied: certifi>=2017.4.17 in /usr/local/lib/python3.11/dist-packages (from requests->huggingface-hub>=0.15.1->sentence-transformers<3.0.0,>=2.6.0->topmost) (2025.1.31)\n"
          ]
        }
      ],
      "source": [
        "from google.colab import drive\n",
        "drive.mount('/content/drive')\n",
        "!pip install topmost"
      ]
    },
    {
      "cell_type": "code",
      "source": [
        "!pip install torch==1.7.1\n",
        "!pip install scikit-learn==1.0.2\n",
        "!pip install gensim==4.3.0\n",
        "!pip install pyyaml==6.0\n",
        "!pip install tqdm\n"
      ],
      "metadata": {
        "colab": {
          "base_uri": "https://localhost:8080/"
        },
        "id": "NUJVk6NAFXAT",
        "outputId": "2b5522f0-2195-45ab-b545-2992038bd194"
      },
      "execution_count": 2,
      "outputs": [
        {
          "output_type": "stream",
          "name": "stdout",
          "text": [
            "\u001b[31mERROR: Could not find a version that satisfies the requirement torch==1.7.1 (from versions: 1.13.0, 1.13.1, 2.0.0, 2.0.1, 2.1.0, 2.1.1, 2.1.2, 2.2.0, 2.2.1, 2.2.2, 2.3.0, 2.3.1, 2.4.0, 2.4.1, 2.5.0, 2.5.1, 2.6.0)\u001b[0m\u001b[31m\n",
            "\u001b[0m\u001b[31mERROR: No matching distribution found for torch==1.7.1\u001b[0m\u001b[31m\n",
            "\u001b[0mCollecting scikit-learn==1.0.2\n",
            "  Using cached scikit-learn-1.0.2.tar.gz (6.7 MB)\n",
            "  Installing build dependencies ... \u001b[?25l\u001b[?25hdone\n",
            "  Getting requirements to build wheel ... \u001b[?25l\u001b[?25hdone\n",
            "  \u001b[1;31merror\u001b[0m: \u001b[1msubprocess-exited-with-error\u001b[0m\n",
            "  \n",
            "  \u001b[31m×\u001b[0m \u001b[32mPreparing metadata \u001b[0m\u001b[1;32m(\u001b[0m\u001b[32mpyproject.toml\u001b[0m\u001b[1;32m)\u001b[0m did not run successfully.\n",
            "  \u001b[31m│\u001b[0m exit code: \u001b[1;36m1\u001b[0m\n",
            "  \u001b[31m╰─>\u001b[0m See above for output.\n",
            "  \n",
            "  \u001b[1;35mnote\u001b[0m: This error originates from a subprocess, and is likely not a problem with pip.\n",
            "  Preparing metadata (pyproject.toml) ... \u001b[?25l\u001b[?25herror\n",
            "\u001b[1;31merror\u001b[0m: \u001b[1mmetadata-generation-failed\u001b[0m\n",
            "\n",
            "\u001b[31m×\u001b[0m Encountered error while generating package metadata.\n",
            "\u001b[31m╰─>\u001b[0m See above for output.\n",
            "\n",
            "\u001b[1;35mnote\u001b[0m: This is an issue with the package mentioned above, not pip.\n",
            "\u001b[1;36mhint\u001b[0m: See above for details.\n",
            "Requirement already satisfied: gensim==4.3.0 in /usr/local/lib/python3.11/dist-packages (4.3.0)\n",
            "Requirement already satisfied: numpy>=1.18.5 in /usr/local/lib/python3.11/dist-packages (from gensim==4.3.0) (1.24.4)\n",
            "Requirement already satisfied: scipy>=1.7.0 in /usr/local/lib/python3.11/dist-packages (from gensim==4.3.0) (1.10.1)\n",
            "Requirement already satisfied: smart-open>=1.8.1 in /usr/local/lib/python3.11/dist-packages (from gensim==4.3.0) (7.1.0)\n",
            "Requirement already satisfied: FuzzyTM>=0.4.0 in /usr/local/lib/python3.11/dist-packages (from gensim==4.3.0) (2.0.9)\n",
            "Requirement already satisfied: pandas in /usr/local/lib/python3.11/dist-packages (from FuzzyTM>=0.4.0->gensim==4.3.0) (1.5.3)\n",
            "Requirement already satisfied: pyfume in /usr/local/lib/python3.11/dist-packages (from FuzzyTM>=0.4.0->gensim==4.3.0) (0.3.4)\n",
            "Requirement already satisfied: wrapt in /usr/local/lib/python3.11/dist-packages (from smart-open>=1.8.1->gensim==4.3.0) (1.17.2)\n",
            "Requirement already satisfied: python-dateutil>=2.8.1 in /usr/local/lib/python3.11/dist-packages (from pandas->FuzzyTM>=0.4.0->gensim==4.3.0) (2.8.2)\n",
            "Requirement already satisfied: pytz>=2020.1 in /usr/local/lib/python3.11/dist-packages (from pandas->FuzzyTM>=0.4.0->gensim==4.3.0) (2025.1)\n",
            "Requirement already satisfied: simpful==2.12.0 in /usr/local/lib/python3.11/dist-packages (from pyfume->FuzzyTM>=0.4.0->gensim==4.3.0) (2.12.0)\n",
            "Requirement already satisfied: fst-pso==1.8.1 in /usr/local/lib/python3.11/dist-packages (from pyfume->FuzzyTM>=0.4.0->gensim==4.3.0) (1.8.1)\n",
            "Requirement already satisfied: miniful in /usr/local/lib/python3.11/dist-packages (from fst-pso==1.8.1->pyfume->FuzzyTM>=0.4.0->gensim==4.3.0) (0.0.6)\n",
            "Requirement already satisfied: six>=1.5 in /usr/local/lib/python3.11/dist-packages (from python-dateutil>=2.8.1->pandas->FuzzyTM>=0.4.0->gensim==4.3.0) (1.17.0)\n",
            "Requirement already satisfied: pyyaml==6.0 in /usr/local/lib/python3.11/dist-packages (6.0)\n",
            "Requirement already satisfied: tqdm in /usr/local/lib/python3.11/dist-packages (4.67.1)\n"
          ]
        }
      ]
    },
    {
      "cell_type": "code",
      "source": [],
      "metadata": {
        "id": "9C-EQDDhF1cF"
      },
      "execution_count": 2,
      "outputs": []
    },
    {
      "cell_type": "code",
      "source": [
        "%%bash\n",
        "cd /content/drive/MyDrive/\n",
        "# ls\n"
      ],
      "metadata": {
        "collapsed": true,
        "id": "3y9Gn-xglD0j"
      },
      "execution_count": 3,
      "outputs": []
    },
    {
      "cell_type": "code",
      "source": [
        "!git clone https://github.com/BobXWu/CFDTM.git\n",
        "# !pip install -r requirements.txt\n",
        "# !python your_script.py\n"
      ],
      "metadata": {
        "colab": {
          "base_uri": "https://localhost:8080/"
        },
        "id": "ov1x9z3RlD3-",
        "outputId": "4309424f-7681-47c8-b187-c47d1dde66cc"
      },
      "execution_count": 4,
      "outputs": [
        {
          "output_type": "stream",
          "name": "stdout",
          "text": [
            "Cloning into 'CFDTM'...\n",
            "remote: Enumerating objects: 45, done.\u001b[K\n",
            "remote: Counting objects: 100% (45/45), done.\u001b[K\n",
            "remote: Compressing objects: 100% (39/39), done.\u001b[K\n",
            "remote: Total 45 (delta 2), reused 38 (delta 0), pack-reused 0 (from 0)\u001b[K\n",
            "Receiving objects: 100% (45/45), 14.40 MiB | 16.47 MiB/s, done.\n",
            "Resolving deltas: 100% (2/2), done.\n"
          ]
        }
      ]
    },
    {
      "cell_type": "code",
      "source": [
        "%cd /content/CFDTM/CFDTM\n",
        "!ls\n",
        "!ls scripts/\n",
        "!bash scripts/run.sh NYT 50\n"
      ],
      "metadata": {
        "colab": {
          "base_uri": "https://localhost:8080/"
        },
        "id": "pb83e472F7iF",
        "outputId": "1abb186f-c983-444d-c901-4f5bf632f6a3"
      },
      "execution_count": 13,
      "outputs": [
        {
          "output_type": "stream",
          "name": "stdout",
          "text": [
            "/content/CFDTM/CFDTM\n",
            "configs  dynamic_topic_model.py  models  output  runners  scripts  utils\n",
            "run.sh\n",
            "  0% 0/1 [00:00<?, ?it/s]Epoch: 001\n",
            "Time-10_K-0 chains theories discovering theory sequence oxygen interactions warehouse chain metal separating elements explored pathway formula\n",
            "Time-10_K-1 control english work recording machinery slow put engineer rank division button emissions fast complicated third\n",
            "Time-10_K-2 covid accumulated expenses conn vacation disputed friedman teacher escalated basis steadily narrowed paths classroom adjusted\n",
            "Time-10_K-3 manufacturing developer jump commercial achievement leap steady development adjustment improvement improvements growth steve supervisor upward\n",
            "Time-10_K-4 condemn wage condemnation denial principle hardship expectation applies condemns conditions wages workers apply minimum raises\n",
            "Time-10_K-5 crown prince explore quest cooperation reign iii mutual reinforce promoted assured pledged realm lure charm\n",
            "Time-10_K-6 profits requests amount net announcing orders transactions conflicting filings reveal twitter media returns disclose profit\n",
            "Time-10_K-7 risky experiment vast beloved technologies ambitious wonders unwilling unpopular humans genetic minority controlling tribes holdings\n",
            "Time-10_K-8 warmbier halloween bunch seekers wildly cocktail dizzying brazen rocks annie eligibility proposition earthquake dodge undocumented\n",
            "Time-10_K-9 italy painted entry ceiling italian steel export painting port greatly expands severely import boost shaped\n",
            "Time-10_K-10 favors charter protocol establishment silicon greeted brazil openly expressing joining secretly brazilian backing netanyahu gatherings\n",
            "Time-10_K-11 legs reading girls super kamala mom birds nancy background spotted jane miss alert hair pretty\n",
            "Time-10_K-12 purchasing price wage los prices gasoline wages increase immigrant missiles angeles yields tracking rockets drop\n",
            "Time-10_K-13 lago aug unfolded unfold labs dec mosul raid lab standoff laboratory protocols warehouse aboard nov\n",
            "Time-10_K-14 cancellation stems eliminate hurdles overt involvement amounted oust payroll requirement sabotage allegiance relation marathon rupture\n",
            "Time-10_K-15 black segment representative legend yellow pence loyal comic shirt purple ranking pink conn rank category\n",
            "Time-10_K-16 fairness ensuring balance stability cooperation guarantees emphasizing reforms equality accord peaceful transparency intellectual resolving minorities\n",
            "Time-10_K-17 topped packed wework rain snow flash forecast surges flooding cracked expecting rains pouring stared floods\n",
            "Time-10_K-18 kenneth fentanyl janet secrets friedman nixon secret comey epstein nicholas subpoenaed archives stephen covid counterintelligence\n",
            "Time-10_K-19 worst deadliest lasted stages sessions rout hits encounters compiled episodes group managing footage aftermath runs\n",
            "Time-10_K-20 zuckerberg maj dave rob julian hunter historian roy nick kirsten chris bob kevin dismiss simon\n",
            "Time-10_K-21 christmas kremlin striking metoo pause twist capped averaged pence aug solitary holiday milestone sprint scare\n",
            "Time-10_K-22 thank maine cleveland vermont grateful louisiana jersey carolina tears wisconsin flooded waited beach hampshire sheldon\n",
            "Time-10_K-23 confidential database leaks notorious documented disclose disclosed leaking disclosing investigative servers san stored comparable leaked\n",
            "Time-10_K-24 qanon mcconnell barr acting deputy mitch committees obstruction sergeant cia prosecuted obstructing hassan acronym nsa\n",
            "Time-10_K-25 power cia estimate released agency calculations publicly reuters calculation associates electric indictment falsely projections according\n",
            "Time-10_K-26 triple nominated rev austin opioid indiana compact roster junior plus las interior runoff charlotte governors\n",
            "Time-10_K-27 contained proposals centuries specifics earliest discussed regarding russian concerning details contain texts significance debris counterparts\n",
            "Time-10_K-28 isil brexit wobble posts mit searing positioned brave douglas cool helm jonathan scalise finish landing\n",
            "Time-10_K-29 trained defenders professional defensive hard talent playing line defender credentials players kick ball player vocal\n",
            "Time-10_K-30 warmbier line people old court right someone york politburo woman correct person subway age way\n",
            "Time-10_K-31 wework wisconsin falls describes ohio massachusetts hampshire oregon census ariz idaho frame pew grows draws\n",
            "Time-10_K-32 covid appetite guns rubber chips reliance battery ammunition raw weigh propelled stuffed snap kyiv grip\n",
            "Time-10_K-33 nicole divorce actress cancer roberts jessica kevin actor brad jennifer patricia progressive breast megan gunshot\n",
            "Time-10_K-34 withdrew reopened permanently temporarily strained unsealed tokyo lingering pending abruptly shoulder remained worsened yemen settles\n",
            "Time-10_K-35 retaliate unless hostile anytime threatens contrary netanyahu destruction orthodox feared fails weaken undermined retaliation withdrawal\n",
            "Time-10_K-36 convulsed skies persian kunduz turkish nadler quo latin tolerate greek turnout civilization volatility insurrection amazon\n",
            "Time-10_K-37 advisers chancellor aides pointed casting pharmaceutical prince endorsement office executives guidance accusing buttigieg von client\n",
            "Time-10_K-38 separated scare link shopping pregnant elizabeth index reasons isolation fleeing asylum mad plausible murray covid\n",
            "Time-10_K-39 blue muslim losses operation eastern fully uniform shanghai cities phoenix rail baghdad kong bomb civilians\n",
            "Time-10_K-40 eric prescription cheap hurricanes expensive give keith brad backup button alex deserve daniel label coveted\n",
            "Time-10_K-41 brexit speaking unions reclaim warn reassure latinos minorities nationwide opportunity alert whites countryside anonymous protest\n",
            "Time-10_K-42 light humor commentary atmosphere debate contempt color highlights jury affects matter remark forget oscar acquitted\n",
            "Time-10_K-43 mar eating animals affecting barbaro avoid poor brothers detainees affects families adults gerrymandering avoiding flouting\n",
            "Time-10_K-44 pentagon tank marine force contractor air blows posed viable pose iraq analysis piece soldier laying\n",
            "Time-10_K-45 juan antonio jose del san protein started station patrick interim migration formation jan period martin\n",
            "Time-10_K-46 archive stored samples containing objects museum contains plastic files glass sample devices oct fossil display\n",
            "Time-10_K-47 qanon wework barbaro bedroom visits calm upstairs room boyfriend bed comfort intimate courtroom hospital boy\n",
            "Time-10_K-48 ala academic colleges represents women equivalent universities quarters tel represent districts placing divisions albany outer\n",
            "Time-10_K-49 commissioner social democratic economic union voters labor counties times ballots candidates advisers reform socialist democrat\n",
            "2025-03-03 04:04:26.533332: E external/local_xla/xla/stream_executor/cuda/cuda_fft.cc:477] Unable to register cuFFT factory: Attempting to register factory for plugin cuFFT when one has already been registered\n",
            "WARNING: All log messages before absl::InitializeLog() is called are written to STDERR\n",
            "E0000 00:00:1740974666.555286    9946 cuda_dnn.cc:8310] Unable to register cuDNN factory: Attempting to register factory for plugin cuDNN when one has already been registered\n",
            "E0000 00:00:1740974666.561407    9946 cuda_blas.cc:1418] Unable to register cuBLAS factory: Attempting to register factory for plugin cuBLAS when one has already been registered\n",
            "2025-03-03 04:04:26.582265: I tensorflow/core/platform/cpu_feature_guard.cc:210] This TensorFlow binary is optimized to use available CPU instructions in performance-critical operations.\n",
            "To enable the following instructions: AVX2 AVX512F FMA, in other operations, rebuild TensorFlow with the appropriate compiler flags.\n",
            "11it [00:29,  2.65s/it]\n",
            "===>dynamic_TC: 0.69538\n",
            "<class 'numpy.ndarray'>\n",
            "  0% 0/92 [00:00<?, ?it/s]\n",
            "Traceback (most recent call last):\n",
            "  File \"/content/CFDTM/CFDTM/utils/eva.py\", line 82, in <module>\n",
            "    TD = dynamic_TD(time_idx, time_topic_dict, train_bow, train_times, vocab)\n",
            "         ^^^^^^^^^^^^^^^^^^^^^^^^^^^^^^^^^^^^^^^^^^^^^^^^^^^^^^^^^^^^^^^^^^^^\n",
            "  File \"/usr/local/lib/python3.11/dist-packages/topmost/evaluations/topic_diversity.py\", line 54, in dynamic_TD\n",
            "    time_vocab_idx = np.nonzero(train_bow[doc_idx].sum(0))[0]\n",
            "                                ~~~~~~~~~^^^^^^^^^\n",
            "TypeError: unhashable type: 'numpy.ndarray'\n"
          ]
        }
      ]
    },
    {
      "cell_type": "code",
      "source": [
        "!zip -r /content/file.zip /content/CFDTM/CFDTM\n",
        "from google.colab import files\n",
        "files.download(\"/content/file.zip\")"
      ],
      "metadata": {
        "colab": {
          "base_uri": "https://localhost:8080/",
          "height": 672
        },
        "id": "7ConWL8bNU9U",
        "outputId": "85106eab-2470-40f5-fec8-e0cdd5152f1f"
      },
      "execution_count": 15,
      "outputs": [
        {
          "output_type": "stream",
          "name": "stdout",
          "text": [
            "  adding: content/CFDTM/CFDTM/ (stored 0%)\n",
            "  adding: content/CFDTM/CFDTM/output/ (stored 0%)\n",
            "  adding: content/CFDTM/CFDTM/output/NYT/ (stored 0%)\n",
            "  adding: content/CFDTM/CFDTM/output/NYT/CFDTM_K50_0th_T15 (deflated 91%)\n",
            "  adding: content/CFDTM/CFDTM/output/NYT/CFDTM_K50_0th_rst.mat (deflated 27%)\n",
            "  adding: content/CFDTM/CFDTM/runners/ (stored 0%)\n",
            "  adding: content/CFDTM/CFDTM/runners/__pycache__/ (stored 0%)\n",
            "  adding: content/CFDTM/CFDTM/runners/__pycache__/Runner.cpython-311.pyc (deflated 50%)\n",
            "  adding: content/CFDTM/CFDTM/runners/Runner.py (deflated 65%)\n",
            "  adding: content/CFDTM/CFDTM/dynamic_topic_model.py (deflated 65%)\n",
            "  adding: content/CFDTM/CFDTM/configs/ (stored 0%)\n",
            "  adding: content/CFDTM/CFDTM/configs/model/ (stored 0%)\n",
            "  adding: content/CFDTM/CFDTM/configs/model/CFDTM.yaml (deflated 38%)\n",
            "  adding: content/CFDTM/CFDTM/models/ (stored 0%)\n",
            "  adding: content/CFDTM/CFDTM/models/UWE.py (deflated 65%)\n",
            "  adding: content/CFDTM/CFDTM/models/networks/ (stored 0%)\n",
            "  adding: content/CFDTM/CFDTM/models/networks/__pycache__/ (stored 0%)\n",
            "  adding: content/CFDTM/CFDTM/models/networks/__pycache__/Encoder.cpython-311.pyc (deflated 53%)\n",
            "  adding: content/CFDTM/CFDTM/models/networks/Encoder.py (deflated 67%)\n",
            "  adding: content/CFDTM/CFDTM/models/CFDTM.py (deflated 68%)\n",
            "  adding: content/CFDTM/CFDTM/models/__pycache__/ (stored 0%)\n",
            "  adding: content/CFDTM/CFDTM/models/__pycache__/ETC.cpython-311.pyc (deflated 47%)\n",
            "  adding: content/CFDTM/CFDTM/models/__pycache__/UWE.cpython-311.pyc (deflated 45%)\n",
            "  adding: content/CFDTM/CFDTM/models/__pycache__/CFDTM.cpython-311.pyc (deflated 52%)\n",
            "  adding: content/CFDTM/CFDTM/models/ETC.py (deflated 71%)\n",
            "  adding: content/CFDTM/CFDTM/utils/ (stored 0%)\n",
            "  adding: content/CFDTM/CFDTM/utils/eva.py (deflated 68%)\n",
            "  adding: content/CFDTM/CFDTM/utils/data/ (stored 0%)\n",
            "  adding: content/CFDTM/CFDTM/utils/data/__pycache__/ (stored 0%)\n",
            "  adding: content/CFDTM/CFDTM/utils/data/__pycache__/file_utils.cpython-311.pyc (deflated 51%)\n",
            "  adding: content/CFDTM/CFDTM/utils/data/__pycache__/DatasetHandler.cpython-311.pyc (deflated 57%)\n",
            "  adding: content/CFDTM/CFDTM/utils/data/DatasetHandler.py (deflated 73%)\n",
            "  adding: content/CFDTM/CFDTM/utils/data/file_utils.py (deflated 63%)\n",
            "  adding: content/CFDTM/CFDTM/scripts/ (stored 0%)\n",
            "  adding: content/CFDTM/CFDTM/scripts/run.sh (deflated 32%)\n"
          ]
        },
        {
          "output_type": "display_data",
          "data": {
            "text/plain": [
              "<IPython.core.display.Javascript object>"
            ],
            "application/javascript": [
              "\n",
              "    async function download(id, filename, size) {\n",
              "      if (!google.colab.kernel.accessAllowed) {\n",
              "        return;\n",
              "      }\n",
              "      const div = document.createElement('div');\n",
              "      const label = document.createElement('label');\n",
              "      label.textContent = `Downloading \"${filename}\": `;\n",
              "      div.appendChild(label);\n",
              "      const progress = document.createElement('progress');\n",
              "      progress.max = size;\n",
              "      div.appendChild(progress);\n",
              "      document.body.appendChild(div);\n",
              "\n",
              "      const buffers = [];\n",
              "      let downloaded = 0;\n",
              "\n",
              "      const channel = await google.colab.kernel.comms.open(id);\n",
              "      // Send a message to notify the kernel that we're ready.\n",
              "      channel.send({})\n",
              "\n",
              "      for await (const message of channel.messages) {\n",
              "        // Send a message to notify the kernel that we're ready.\n",
              "        channel.send({})\n",
              "        if (message.buffers) {\n",
              "          for (const buffer of message.buffers) {\n",
              "            buffers.push(buffer);\n",
              "            downloaded += buffer.byteLength;\n",
              "            progress.value = downloaded;\n",
              "          }\n",
              "        }\n",
              "      }\n",
              "      const blob = new Blob(buffers, {type: 'application/binary'});\n",
              "      const a = document.createElement('a');\n",
              "      a.href = window.URL.createObjectURL(blob);\n",
              "      a.download = filename;\n",
              "      div.appendChild(a);\n",
              "      a.click();\n",
              "      div.remove();\n",
              "    }\n",
              "  "
            ]
          },
          "metadata": {}
        },
        {
          "output_type": "display_data",
          "data": {
            "text/plain": [
              "<IPython.core.display.Javascript object>"
            ],
            "application/javascript": [
              "download(\"download_02feb6b3-f1f1-426f-8d0c-1fb8151a8f48\", \"file.zip\", 18888732)"
            ]
          },
          "metadata": {}
        }
      ]
    }
  ]
}